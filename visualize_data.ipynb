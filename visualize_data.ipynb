{
 "cells": [
  {
   "cell_type": "code",
   "execution_count": null,
   "id": "9b45a131",
   "metadata": {},
   "outputs": [],
   "source": [
    "import os,sys\n",
    "import numpy as np\n",
    "import chart_studio.plotly as py\n",
    "import plotly.graph_objects as go\n",
    "from plotly.subplots import make_subplots\n",
    "import torch\n",
    "from lartpcdataset import lartpcDataset\n",
    "%load_ext autoreload\n",
    "%autoreload 2"
   ]
  },
  {
   "cell_type": "code",
   "execution_count": null,
   "id": "b28568ec",
   "metadata": {},
   "outputs": [],
   "source": [
    "dataset = lartpcDataset(root=\"./data/z-view/\", load_meta_data=True,verbose=False)\n",
    "loader = torch.utils.data.DataLoader(\n",
    "    dataset=dataset,\n",
    "    batch_size=1,\n",
    "    shuffle=True)"
   ]
  },
  {
   "cell_type": "code",
   "execution_count": null,
   "id": "19e3a3b7",
   "metadata": {},
   "outputs": [],
   "source": [
    "LABEL_NAME = {0:\"electron\",\n",
    "             1: \"gamma\",\n",
    "             2:\"muon\",\n",
    "             3:\"proton\",\n",
    "             4:\"pion\"}"
   ]
  },
  {
   "cell_type": "code",
   "execution_count": null,
   "id": "b67611c3",
   "metadata": {},
   "outputs": [],
   "source": [
    "# Get a batch, print the first image\n",
    "batch = next(iter(loader))\n",
    "data = batch[0]\n",
    "labels = batch[1]\n",
    "\n",
    "# note that this is what is returned when load_meta_data=True\n",
    "imgs = data[0]\n",
    "meta = data[1]\n",
    "\n",
    "# note that this is what is returned when load_meta_data=False\n",
    "#imgs = data\n",
    "#meta = None\n",
    "\n",
    "print(\"label: \",labels,\" :: \",LABEL_NAME[labels.item()])\n",
    "xaxis = np.linspace( 0, 256, endpoint=False, num=256 )\n",
    "yaxis = np.linspace( 0, 256, endpoint=False, num=256 )\n",
    "imgplot = {                                                                                                                                                                  \n",
    "    \"type\":\"heatmap\",\n",
    "    \"z\":imgs.squeeze(),\n",
    "    \"x\":xaxis,\n",
    "    \"y\":yaxis,\n",
    "    \"zmin\":0.0,\n",
    "    \"zmax\":10.0,\n",
    "    \"colorscale\":\"Jet\",\n",
    "    \"showscale\":False\n",
    "}\n",
    "\n",
    "fig0 = go.Figure(data=[imgplot])\n",
    "fig0.update_layout(height=400, width=400 )\n",
    "\n",
    "fig0.show()"
   ]
  },
  {
   "cell_type": "code",
   "execution_count": null,
   "id": "1bdb4152",
   "metadata": {
    "scrolled": false
   },
   "outputs": [],
   "source": [
    "# keep gathering batches until we assemble a set of images for each class\n",
    "image_bank = {}\n",
    "mom_bank = {}\n",
    "for labelid in LABEL_NAME:\n",
    "    image_bank[labelid] = []\n",
    "    mom_bank[labelid] = []\n",
    "\n",
    "xaxis = np.linspace( 0, 256, endpoint=False, num=256 )\n",
    "yaxis = np.linspace( 0, 256, endpoint=False, num=256 )\n",
    "    \n",
    "NUM_IMGS_PER_CLASS = 9\n",
    "NUM_IMGS_PER_ROW = 3\n",
    "done = False\n",
    "while not done:\n",
    "    batch = next(iter(loader))\n",
    "    data = batch[0]\n",
    "    label = batch[1].item()\n",
    "    img = data[0]\n",
    "    meta = data[1]\n",
    "    if len(image_bank[label])<NUM_IMGS_PER_CLASS:\n",
    "        image_bank[label].append( img )\n",
    "        mom_bank[label].append( meta[0][-1].item() )\n",
    "    done = True\n",
    "    for labelid in LABEL_NAME:\n",
    "        if len(image_bank[labelid])<NUM_IMGS_PER_CLASS:\n",
    "            done = False\n",
    "print(\"Image bank made\")\n",
    "\n",
    "#Plot them\n",
    "from plotly.subplots import make_subplots\n",
    "class_figs = {}\n",
    "NROWS = int(NUM_IMGS_PER_CLASS/NUM_IMGS_PER_ROW)\n",
    "print(\"NROWS: \",NROWS)\n",
    "for labelid in LABEL_NAME:\n",
    "    #print(\"N IMAGES LABEL=\",labelid,\": \",len(image_bank[labelid]))\n",
    "    \n",
    "    # subplot titles\n",
    "    subtitles = [ \"p=%.2f MeV\"%(x) for x in mom_bank[labelid] ]\n",
    "    \n",
    "    fig = make_subplots(rows=NROWS, cols=NUM_IMGS_PER_ROW, subplot_titles=subtitles )\n",
    "    for n,img in enumerate(image_bank[labelid]):\n",
    "        imgplot = {                                                                                                                                                                  \n",
    "        \"type\":\"heatmap\",\n",
    "        \"z\":img.squeeze(),\n",
    "        \"x\":xaxis,\n",
    "        \"y\":yaxis,\n",
    "        \"zmin\":0.0,\n",
    "        \"zmax\":10.0,\n",
    "        \"colorscale\":\"Jet\",\n",
    "        \"showscale\":False\n",
    "        }\n",
    "        #print(int(n/NUM_IMGS_PER_ROW)+1, n%NUM_IMGS_PER_ROW+1)\n",
    "        fig.add_trace(imgplot, int(n/NUM_IMGS_PER_ROW)+1, n%NUM_IMGS_PER_ROW+1)\n",
    "    fig.update_layout(height=900, width=900, title_text=\"%s examples\"%(LABEL_NAME[labelid]))\n",
    "    fig.show()"
   ]
  },
  {
   "cell_type": "code",
   "execution_count": null,
   "id": "74dc25fe",
   "metadata": {},
   "outputs": [],
   "source": []
  }
 ],
 "metadata": {
  "kernelspec": {
   "display_name": "Python 3 (ipykernel)",
   "language": "python",
   "name": "python3"
  },
  "language_info": {
   "codemirror_mode": {
    "name": "ipython",
    "version": 3
   },
   "file_extension": ".py",
   "mimetype": "text/x-python",
   "name": "python",
   "nbconvert_exporter": "python",
   "pygments_lexer": "ipython3",
   "version": "3.9.7"
  }
 },
 "nbformat": 4,
 "nbformat_minor": 5
}
