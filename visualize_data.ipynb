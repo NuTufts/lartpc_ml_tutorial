{
 "cells": [
  {
   "cell_type": "code",
   "execution_count": null,
   "id": "9b45a131",
   "metadata": {},
   "outputs": [],
   "source": [
    "import os,sys\n",
    "import numpy as np\n",
    "import chart_studio.plotly as py\n",
    "import plotly.graph_objects as go\n",
    "from plotly.subplots import make_subplots\n",
    "import torch\n",
    "from lartpcdataset import lartpcDataset\n",
    "%load_ext autoreload\n",
    "%autoreload 2"
   ]
  },
  {
   "cell_type": "code",
   "execution_count": null,
   "id": "b28568ec",
   "metadata": {},
   "outputs": [],
   "source": [
    "dataset = lartpcDataset(root=\"./data\")\n",
    "loader = torch.utils.data.DataLoader(\n",
    "    dataset=dataset,\n",
    "    batch_size=1,\n",
    "    shuffle=True)"
   ]
  },
  {
   "cell_type": "code",
   "execution_count": null,
   "id": "19e3a3b7",
   "metadata": {},
   "outputs": [],
   "source": [
    "LABEL_NAME = {0:\"electron\",\n",
    "             1: \"gamma\",\n",
    "             2:\"muon\",\n",
    "             3:\"proton\",\n",
    "             4:\"pion\"}"
   ]
  },
  {
   "cell_type": "code",
   "execution_count": null,
   "id": "b67611c3",
   "metadata": {},
   "outputs": [],
   "source": [
    "batch = next(iter(loader))\n",
    "print(batch[0].shape)\n",
    "label = batch[1]\n",
    "print(\"label: \",label,\" :: \",LABEL_NAME[label.item()])\n",
    "xaxis = np.linspace( 0, 256, endpoint=False, num=256 )\n",
    "yaxis = np.linspace( 0, 256, endpoint=False, num=256 )\n",
    "imgplot = {                                                                                                                                                                  \n",
    "    \"type\":\"heatmap\",\n",
    "    \"z\":batch[0].squeeze(),\n",
    "    \"x\":xaxis,\n",
    "    \"y\":yaxis,\n",
    "    \"zmin\":0.0,\n",
    "    \"zmax\":10.0,\n",
    "    \"colorscale\":\"Jet\",\n",
    "}\n",
    "\n",
    "fig0 = go.Figure(data=[imgplot])\n",
    "fig0.show()"
   ]
  },
  {
   "cell_type": "code",
   "execution_count": null,
   "id": "1bdb4152",
   "metadata": {},
   "outputs": [],
   "source": []
  }
 ],
 "metadata": {
  "kernelspec": {
   "display_name": "Python 3 (ipykernel)",
   "language": "python",
   "name": "python3"
  },
  "language_info": {
   "codemirror_mode": {
    "name": "ipython",
    "version": 3
   },
   "file_extension": ".py",
   "mimetype": "text/x-python",
   "name": "python",
   "nbconvert_exporter": "python",
   "pygments_lexer": "ipython3",
   "version": "3.9.7"
  }
 },
 "nbformat": 4,
 "nbformat_minor": 5
}
